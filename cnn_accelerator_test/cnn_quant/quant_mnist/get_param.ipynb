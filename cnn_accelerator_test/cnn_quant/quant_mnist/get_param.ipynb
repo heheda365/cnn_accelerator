{
 "cells": [
  {
   "cell_type": "code",
   "execution_count": 1,
   "metadata": {},
   "outputs": [
    {
     "ename": "ModuleNotFoundError",
     "evalue": "No module named 'model'",
     "output_type": "error",
     "traceback": [
      "\u001b[1;31m---------------------------------------------------------------------------\u001b[0m",
      "\u001b[1;31mModuleNotFoundError\u001b[0m                       Traceback (most recent call last)",
      "\u001b[1;32m<ipython-input-1-9a9b6c1cbf80>\u001b[0m in \u001b[0;36m<module>\u001b[1;34m()\u001b[0m\n\u001b[0;32m      1\u001b[0m \u001b[1;32mimport\u001b[0m \u001b[0mtorch\u001b[0m\u001b[1;33m\u001b[0m\u001b[0m\n\u001b[1;32m----> 2\u001b[1;33m \u001b[1;32mimport\u001b[0m \u001b[0mmodel\u001b[0m\u001b[1;33m\u001b[0m\u001b[0m\n\u001b[0m",
      "\u001b[1;31mModuleNotFoundError\u001b[0m: No module named 'model'"
     ]
    }
   ],
   "source": [
    "import torch\n",
    "import model"
   ]
  },
  {
   "cell_type": "code",
   "execution_count": 2,
   "metadata": {},
   "outputs": [
    {
     "data": {
      "text/plain": [
       "IncompatibleKeys(missing_keys=[], unexpected_keys=[])"
      ]
     },
     "execution_count": 2,
     "metadata": {},
     "output_type": "execute_result"
    }
   ],
   "source": [
    "model = model.MiniConvNetFull()\n",
    "model.load_state_dict(torch.load(\"model.pkl\", map_location='cpu'))"
   ]
  },
  {
   "cell_type": "code",
   "execution_count": 3,
   "metadata": {},
   "outputs": [
    {
     "name": "stdout",
     "output_type": "stream",
     "text": [
      "features.0.weight : torch.Size([32, 1, 3, 3])\n",
      "features.1.weight : torch.Size([32])\n",
      "features.1.bias : torch.Size([32])\n",
      "features.4.weight : torch.Size([32, 32, 3, 3])\n",
      "features.5.weight : torch.Size([32])\n",
      "features.5.bias : torch.Size([32])\n",
      "features.7.weight : torch.Size([32, 32, 3, 3])\n",
      "features.8.weight : torch.Size([32])\n",
      "features.8.bias : torch.Size([32])\n",
      "features.11.weight : torch.Size([32, 32, 3, 3])\n",
      "features.12.weight : torch.Size([32])\n",
      "features.12.bias : torch.Size([32])\n",
      "classifier.0.weight : torch.Size([20, 1568])\n",
      "classifier.1.weight : torch.Size([20])\n",
      "classifier.1.bias : torch.Size([20])\n",
      "classifier.3.weight : torch.Size([10, 20])\n"
     ]
    }
   ],
   "source": [
    "for name,parameters in model.named_parameters():\n",
    "    print(name,':',parameters.size())"
   ]
  },
  {
   "cell_type": "code",
   "execution_count": 4,
   "metadata": {},
   "outputs": [],
   "source": [
    "for name, sub_module in model.named_modules():\n",
    "    if type(sub_module).__base__ is torch.nn.Conv2d:\n",
    "        print(name)\n",
    "        print(sub_module.bias)"
   ]
  },
  {
   "cell_type": "markdown",
   "metadata": {},
   "source": [
    "# 生成配置头文件"
   ]
  },
  {
   "cell_type": "code",
   "execution_count": 5,
   "metadata": {},
   "outputs": [],
   "source": [
    "def write_define(define_name, define_value, config_file):\n",
    "    config_file.write(\"#define \"+str(define_name)+\" \"+str(define_value)+\"\\n\")\n",
    "    \n",
    "def generateConfig(model, in_row, in_col, path_to_config):\n",
    "    config_file = open(path_to_config, \"w\")\n",
    "    cov_cnt = 0\n",
    "    pool_cnt = 0\n",
    "    linear_cnt = 0\n",
    "    in_ch = 0\n",
    "    for name, sub_module in model.named_modules():\n",
    "        if type(sub_module) is torch.nn.Conv2d:\n",
    "            write_define(\"COV_\" + str(cov_cnt) + \"_IN_CH\", sub_module.in_channels, config_file)\n",
    "            write_define(\"COV_\" + str(cov_cnt) + \"_IN_ROW\", in_row, config_file)\n",
    "            write_define(\"COV_\" + str(cov_cnt) + \"_IN_COL\", in_col, config_file)\n",
    "            \n",
    "            in_row = (in_row + 2 * sub_module.padding[0] - sub_module.kernel_size[0]) // sub_module.stride[0] + 1\n",
    "            in_col = (in_col + 2 * sub_module.padding[0] - sub_module.kernel_size[0]) // sub_module.stride[0] + 1\n",
    "            in_ch = sub_module.out_channels\n",
    "            write_define(\"COV_\" + str(cov_cnt) + \"_OUT_CH\", sub_module.out_channels, config_file)\n",
    "            write_define(\"COV_\" + str(cov_cnt) + \"_OUT_ROW\", in_row, config_file)\n",
    "            write_define(\"COV_\" + str(cov_cnt) + \"_OUT_COL\", in_col, config_file)\n",
    "            \n",
    "           \n",
    "            write_define(\"COV_\" + str(cov_cnt) + \"_K\", sub_module.kernel_size[0], config_file)\n",
    "            write_define(\"COV_\" + str(cov_cnt) + \"_S\", sub_module.stride[0], config_file)\n",
    "            write_define(\"COV_\" + str(cov_cnt) + \"_P\", sub_module.padding[0], config_file)\n",
    "            if sub_module.bias != None:\n",
    "                write_define(\"COV_\" + str(cov_cnt) + \"_B\", 1, config_file)\n",
    "            else:\n",
    "                write_define(\"COV_\" + str(cov_cnt) + \"_B\", 0, config_file)\n",
    "            cov_cnt = cov_cnt + 1\n",
    "            config_file.write(\"\\n\")\n",
    "        elif type(sub_module) is torch.nn.MaxPool2d:\n",
    "            write_define(\"POOL_\" + str(pool_cnt) + \"_IN_CH\", in_ch, config_file)\n",
    "            write_define(\"POOL_\" + str(pool_cnt) + \"_IN_ROW\", in_row, config_file)\n",
    "            write_define(\"POOL_\" + str(pool_cnt) + \"_IN_COL\", in_col, config_file)\n",
    "            write_define(\"POOL_\" + str(pool_cnt) + \"_IN_PO\", sub_module.kernel_size, config_file)\n",
    "            in_row = in_row // sub_module.kernel_size\n",
    "            in_col = in_col // sub_module.kernel_size\n",
    "            pool_cnt = pool_cnt + 1\n",
    "            config_file.write(\"\\n\")\n",
    "        elif type(sub_module) is torch.nn.Linear:\n",
    "            write_define(\"LINEAR_\" + str(linear_cnt) + \"_IN_N\", sub_module.in_features, config_file)\n",
    "            write_define(\"LINEAR_\" + str(linear_cnt) + \"_OUT_N\", sub_module.out_features, config_file)\n",
    "            linear_cnt = linear_cnt + 1\n",
    "            config_file.write(\"\\n\")\n",
    "#         elif type(sub_module) is torch.nn.ReLU:\n",
    "#             write_define(\"LINEAR_\" + str(linear_cnt) + \"_IN_N\", sub_module.in_features, config_file)\n",
    "    config_file.close()"
   ]
  },
  {
   "cell_type": "code",
   "execution_count": 6,
   "metadata": {},
   "outputs": [],
   "source": [
    "generateConfig(model, 28, 28, 'config.h')"
   ]
  },
  {
   "cell_type": "markdown",
   "metadata": {},
   "source": [
    "# 生成参数"
   ]
  },
  {
   "cell_type": "code",
   "execution_count": 41,
   "metadata": {},
   "outputs": [
    {
     "name": "stdout",
     "output_type": "stream",
     "text": [
      "1e-05\n",
      "beta =  [ 0.02388065  0.01089465  0.01564483  0.05289611  0.01513779 -0.02877514\n",
      " -0.0248562   0.00178388  0.00945559  0.00549961  0.02283658  0.05723793\n",
      "  0.01010213  0.00596863 -0.00542759  0.0146016  -0.02077629 -0.00387304\n",
      "  0.03725917 -0.01456535  0.00192923  0.01053245 -0.02995951  0.00337649\n",
      "  0.0514285  -0.01337652  0.03363698  0.00642971  0.05298251  0.0140421\n",
      "  0.00966313  0.03996097]\n",
      "b =  [ 0.23054919  0.20878126 -0.39858305  0.374077    0.4325052   0.06877299\n",
      "  0.04340973  0.00286376 -0.25673512  0.13347222  0.3056556   0.01454846\n",
      " -0.18620497 -0.18566419  0.00149324 -0.09152427 -0.04192213 -0.00331088\n",
      "  0.0085146  -0.02244141 -0.06747825  0.24063674  0.10392877 -0.00134065\n",
      "  0.1191881  -0.37271008  0.4595673   0.31261703  0.06125054 -0.38794965\n",
      " -0.23446953  0.17058368]\n",
      "1e-05\n",
      "beta =  [ 0.00142689  0.00931651 -0.02187369 -0.01334099  0.00024301  0.00831488\n",
      " -0.04687087 -0.01488988 -0.04253968  0.01269346  0.00855247 -0.02022107\n",
      " -0.02290761  0.01957975 -0.02408206 -0.0279023   0.02338064  0.01826884\n",
      " -0.00444219 -0.01949259  0.00180434 -0.00867866  0.00572892 -0.01762944\n",
      " -0.02971872 -0.02024529  0.05244026  0.00284172 -0.01405501 -0.03040401\n",
      " -0.00071091  0.01167894]\n",
      "b =  [ 0.08957227  0.0782667  -0.46561974  0.87319404  0.0758946  -0.01784224\n",
      "  0.27924162  0.0084765  -0.04506712 -0.12564358  0.34569794  0.7800366\n",
      " -0.00956195  0.14988746 -0.0479757   0.00842012  0.00316488 -0.03406302\n",
      "  0.55258137 -0.03245998  0.4025855   0.13069794  0.04101259  0.5986704\n",
      "  0.10895769  0.01571901  0.28712848  0.16589427  0.23439838 -0.47815827\n",
      " -0.03795316 -0.11013909]\n",
      "1e-05\n",
      "beta =  [-0.04784676 -0.0224181  -0.00303501 -0.03646639 -0.00812323  0.02942468\n",
      " -0.02380175 -0.02197812  0.01510908 -0.12394547  0.05518561 -0.05156804\n",
      " -0.04364526  0.00618749 -0.05639622 -0.0928373  -0.044618    0.03399888\n",
      " -0.05640139 -0.03507163 -0.05231333 -0.0579734   0.03368976 -0.05886254\n",
      " -0.04842739  0.01309083 -0.01217447 -0.03858148 -0.01149276 -0.08638202\n",
      "  0.03927426  0.08100724]\n",
      "b =  [-0.3116622   0.37714148  0.12695493  0.17461875  0.03044248  0.10500793\n",
      " -0.15374932  0.23744391  0.62914383  0.27296716  0.5122694   0.3400105\n",
      "  0.288406    1.5134397   0.1233439   0.46466216 -0.14176399  0.08753178\n",
      " -0.36313608 -0.13803253 -0.14288624  0.6571401  -0.04830897  0.14326869\n",
      "  0.04938735  0.2307624   0.26926535  0.11508667  0.50384206  0.0480099\n",
      " -0.28335688  0.77510715]\n",
      "1e-05\n",
      "beta =  [-0.06126388 -0.01316058 -0.12039112 -0.0274067   0.00719876 -0.07250503\n",
      " -0.02569078 -0.01618535 -0.04865137 -0.02612119 -0.07794577 -0.07570184\n",
      " -0.07762802 -0.09341457 -0.04310616 -0.05189068 -0.0650173  -0.06364127\n",
      " -0.05761668 -0.06902734 -0.0260122  -0.04921637 -0.04405612 -0.04944639\n",
      " -0.0531875  -0.05035407 -0.0791279  -0.0155341  -0.02725551 -0.09395048\n",
      " -0.04976855 -0.0793911 ]\n",
      "b =  [ 1.1110744   0.13153136  0.29914942  0.8750886  -0.13551176  0.9878151\n",
      "  0.07391808  0.14887114  0.25745955  0.29034045 -0.03999352  0.41210073\n",
      "  0.80561453  0.34193128  0.27185032  1.5580447   0.47725403  0.272321\n",
      " -0.0183038   0.7369888   0.5351115   1.0793266   1.308768    0.6281815\n",
      "  0.9409771   0.74106073  0.2215214  -0.2864322   0.04467539  1.3591951\n",
      "  0.52013326  0.06389456]\n",
      "1e-05\n",
      "beta =  [0.38638997 0.36220294 0.31756473 0.33722913 0.3391754  0.30704865\n",
      " 0.3464684  0.3484218  0.34631053 0.32521635 0.31994757 0.30757406\n",
      " 0.32549718 0.32801008 0.34040016 0.3152594  0.3515376  0.3236286\n",
      " 0.35813597 0.34381336]\n",
      "b =  [ 0.4822067   1.8380897   0.7962111   0.6108079   1.6495333   0.11780201\n",
      "  0.2471717   0.22557461 -0.43441263  1.917639    1.0909953   0.05835548\n",
      "  1.381861    1.923676    0.42922437  1.0952344   0.70552254  0.38573384\n",
      "  1.3422807   0.06641746]\n"
     ]
    }
   ],
   "source": [
    "import numpy as np\n",
    "\n",
    "def generate_params(model):\n",
    "    \n",
    "    cov_cnt = 0\n",
    "    linear_cnt = 0\n",
    "    bn_cnt = 0\n",
    "\n",
    "    for name, sub_module in model.named_modules():\n",
    "        if type(sub_module) is torch.nn.Conv2d:\n",
    "            w = sub_module.weight.detach().numpy()\n",
    "#             print(w)\n",
    "            w.tofile('prama/' + 'conv_' + str(cov_cnt) + '_w.bin')\n",
    "            if sub_module.bias != None:\n",
    "                b = sub_module.bias.detach().numpy()\n",
    "                b.tofile('prama/' + 'conv_' + str(cov_cnt) + '_b.bin')\n",
    "            cov_cnt = cov_cnt + 1    \n",
    "        elif type(sub_module) is torch.nn.Linear:\n",
    "            w = sub_module.weight.detach().numpy()\n",
    "            w.tofile('prama/' + 'linear_' + str(linear_cnt) + '_w.bin')\n",
    "            if sub_module.bias != None:\n",
    "                b = sub_module.bias.detach().numpy()\n",
    "                b.tofile('prama/' + 'linear_' + str(linear_cnt) + '_b.bin')          \n",
    "            linear_cnt = linear_cnt + 1\n",
    "        elif type(sub_module) is torch.nn.BatchNorm2d or type(sub_module) is torch.nn.BatchNorm1d:\n",
    "            gamma = sub_module.weight.detach().numpy()\n",
    "            var = sub_module.running_var.numpy()\n",
    "            mean = sub_module.running_mean.numpy()\n",
    "            eps = sub_module.eps\n",
    "            beta = sub_module.bias.detach().numpy()\n",
    "            \n",
    "#             print(\"gamma \", gamma)\n",
    "#             print(\"var\", var)\n",
    "#             print('mean', mean)\n",
    "#             print('beta', beta)\n",
    "            \n",
    "            \n",
    "            w = gamma / (np.sqrt(var) + eps)\n",
    "            w.tofile('prama/' + 'bn_' + str(bn_cnt) + '_w.bin')\n",
    "\n",
    "            \n",
    "            b = beta - (mean / (np.sqrt(var) + eps) * gamma)\n",
    "            print(eps)\n",
    "            print('beta = ', beta)\n",
    "            print('b = ', b)\n",
    "            b.tofile('prama/' + 'bn_' + str(bn_cnt) + '_b.bin') \n",
    "            bn_cnt = bn_cnt + 1\n",
    "\n",
    "generate_params(model)"
   ]
  },
  {
   "cell_type": "code",
   "execution_count": 18,
   "metadata": {},
   "outputs": [
    {
     "name": "stdout",
     "output_type": "stream",
     "text": [
      "[2.22 3.22 4.22 5.22]\n"
     ]
    }
   ],
   "source": [
    "a = np.array([1, 2, 3, 4])\n",
    "a = a + 1.22\n",
    "print(a)"
   ]
  }
 ],
 "metadata": {
  "kernelspec": {
   "display_name": "Python 3",
   "language": "python",
   "name": "python3"
  },
  "language_info": {
   "codemirror_mode": {
    "name": "ipython",
    "version": 3
   },
   "file_extension": ".py",
   "mimetype": "text/x-python",
   "name": "python",
   "nbconvert_exporter": "python",
   "pygments_lexer": "ipython3",
   "version": "3.6.5"
  }
 },
 "nbformat": 4,
 "nbformat_minor": 2
}