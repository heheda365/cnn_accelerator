{
 "cells": [
  {
   "cell_type": "code",
   "execution_count": 1,
   "metadata": {},
   "outputs": [],
   "source": [
    "import torch\n",
    "import model"
   ]
  },
  {
   "cell_type": "code",
   "execution_count": 2,
   "metadata": {},
   "outputs": [
    {
     "data": {
      "text/plain": [
       "IncompatibleKeys(missing_keys=[], unexpected_keys=[])"
      ]
     },
     "execution_count": 2,
     "metadata": {},
     "output_type": "execute_result"
    }
   ],
   "source": [
    "model = model.MiniConvNet()\n",
    "model.load_state_dict(torch.load(\"model.pkl\", map_location='cpu'))"
   ]
  },
  {
   "cell_type": "code",
   "execution_count": 3,
   "metadata": {},
   "outputs": [
    {
     "name": "stdout",
     "output_type": "stream",
     "text": [
      "features.0.weight : torch.Size([32, 1, 3, 3])\n",
      "features.1.weight : torch.Size([32])\n",
      "features.1.bias : torch.Size([32])\n",
      "features.5.weight : torch.Size([32, 32, 3, 3])\n",
      "features.6.weight : torch.Size([32])\n",
      "features.6.bias : torch.Size([32])\n",
      "features.9.weight : torch.Size([32, 32, 3, 3])\n",
      "features.10.weight : torch.Size([32])\n",
      "features.10.bias : torch.Size([32])\n",
      "features.14.weight : torch.Size([32, 32, 3, 3])\n",
      "features.15.weight : torch.Size([32])\n",
      "features.15.bias : torch.Size([32])\n",
      "classifier.0.weight : torch.Size([20, 1568])\n",
      "classifier.1.weight : torch.Size([20])\n",
      "classifier.1.bias : torch.Size([20])\n",
      "classifier.4.weight : torch.Size([10, 20])\n"
     ]
    }
   ],
   "source": [
    "for name,parameters in model.named_parameters():\n",
    "    print(name,':',parameters.size())"
   ]
  },
  {
   "cell_type": "code",
   "execution_count": 4,
   "metadata": {},
   "outputs": [
    {
     "name": "stdout",
     "output_type": "stream",
     "text": [
      "features.0\n",
      "None\n",
      "features.5\n",
      "None\n",
      "features.9\n",
      "None\n",
      "features.14\n",
      "None\n"
     ]
    }
   ],
   "source": [
    "for name, sub_module in model.named_modules():\n",
    "    if type(sub_module).__base__ is torch.nn.Conv2d:\n",
    "        print(name)\n",
    "        print(sub_module.bias)"
   ]
  },
  {
   "cell_type": "markdown",
   "metadata": {},
   "source": [
    "# 生成配置头文件"
   ]
  },
  {
   "cell_type": "code",
   "execution_count": 5,
   "metadata": {},
   "outputs": [],
   "source": [
    "def write_define(define_name, define_value, config_file):\n",
    "    config_file.write(\"#define \"+str(define_name)+\" \"+str(define_value)+\"\\n\")\n",
    "    \n",
    "def generateConfig(model, in_row, in_col, path_to_config):\n",
    "    config_file = open(path_to_config, \"w\")\n",
    "    cov_cnt = 0\n",
    "    pool_cnt = 0\n",
    "    linear_cnt = 0\n",
    "    in_ch = 0\n",
    "    for name, sub_module in model.named_modules():\n",
    "        if type(sub_module).__base__ is torch.nn.Conv2d:\n",
    "            write_define(\"COV_\" + str(cov_cnt) + \"_IN_CH\", sub_module.in_channels, config_file)\n",
    "            write_define(\"COV_\" + str(cov_cnt) + \"_IN_ROW\", in_row, config_file)\n",
    "            write_define(\"COV_\" + str(cov_cnt) + \"_IN_COL\", in_col, config_file)\n",
    "            \n",
    "            in_row = (in_row + 2 * sub_module.padding[0] - sub_module.kernel_size[0]) // sub_module.stride[0] + 1\n",
    "            in_col = (in_col + 2 * sub_module.padding[0] - sub_module.kernel_size[0]) // sub_module.stride[0] + 1\n",
    "            in_ch = sub_module.out_channels\n",
    "            write_define(\"COV_\" + str(cov_cnt) + \"_OUT_CH\", sub_module.out_channels, config_file)\n",
    "            write_define(\"COV_\" + str(cov_cnt) + \"_OUT_ROW\", in_row, config_file)\n",
    "            write_define(\"COV_\" + str(cov_cnt) + \"_OUT_COL\", in_col, config_file)\n",
    "            \n",
    "           \n",
    "            write_define(\"COV_\" + str(cov_cnt) + \"_K\", sub_module.kernel_size[0], config_file)\n",
    "            write_define(\"COV_\" + str(cov_cnt) + \"_S\", sub_module.stride[0], config_file)\n",
    "            write_define(\"COV_\" + str(cov_cnt) + \"_P\", sub_module.padding[0], config_file)\n",
    "            if sub_module.bias != None:\n",
    "                write_define(\"COV_\" + str(cov_cnt) + \"_B\", 1, config_file)\n",
    "            else:\n",
    "                write_define(\"COV_\" + str(cov_cnt) + \"_B\", 0, config_file)\n",
    "            cov_cnt = cov_cnt + 1\n",
    "            config_file.write(\"\\n\")\n",
    "        elif type(sub_module) is torch.nn.MaxPool2d:\n",
    "            write_define(\"POOL_\" + str(pool_cnt) + \"_IN_CH\", in_ch, config_file)\n",
    "            write_define(\"POOL_\" + str(pool_cnt) + \"_IN_ROW\", in_row, config_file)\n",
    "            write_define(\"POOL_\" + str(pool_cnt) + \"_IN_COL\", in_col, config_file)\n",
    "            write_define(\"POOL_\" + str(pool_cnt) + \"_IN_PO\", sub_module.kernel_size, config_file)\n",
    "            in_row = in_row // sub_module.kernel_size\n",
    "            in_col = in_col // sub_module.kernel_size\n",
    "            pool_cnt = pool_cnt + 1\n",
    "            config_file.write(\"\\n\")\n",
    "        elif type(sub_module).__base__ is torch.nn.Linear:\n",
    "            write_define(\"LINEAR_\" + str(linear_cnt) + \"_IN_N\", sub_module.in_features, config_file)\n",
    "            write_define(\"LINEAR_\" + str(linear_cnt) + \"_OUT_N\", sub_module.out_features, config_file)\n",
    "            linear_cnt = linear_cnt + 1\n",
    "            config_file.write(\"\\n\")\n",
    "#         elif type(sub_module) is torch.nn.ReLU:\n",
    "#             write_define(\"LINEAR_\" + str(linear_cnt) + \"_IN_N\", sub_module.in_features, config_file)\n",
    "    config_file.close()"
   ]
  },
  {
   "cell_type": "code",
   "execution_count": 6,
   "metadata": {},
   "outputs": [],
   "source": [
    "generateConfig(model, 28, 28, 'config.h')"
   ]
  },
  {
   "cell_type": "markdown",
   "metadata": {},
   "source": [
    "# 生成参数"
   ]
  },
  {
   "cell_type": "code",
   "execution_count": 16,
   "metadata": {},
   "outputs": [
    {
     "name": "stdout",
     "output_type": "stream",
     "text": [
      "beta =  [-7.40166893e-03  2.28819661e-02  1.20181516e-02  1.53189525e-02\n",
      "  9.49030649e-03 -1.07677110e-01 -6.25235736e-02  3.87686379e-02\n",
      " -2.00911704e-02 -5.85516542e-03 -3.91086005e-02  1.64073501e-02\n",
      "  1.51579753e-02 -2.27795187e-02 -1.06302686e-01 -2.14228071e-02\n",
      " -4.99702953e-02  1.15341321e-02  5.86927496e-02 -1.26750886e-01\n",
      " -4.15025204e-02 -1.08206952e-02  2.61574406e-02  3.55197638e-02\n",
      "  7.63492957e-02 -2.94177170e-07  5.91052230e-03 -6.58446327e-02\n",
      " -5.19776344e-02  1.26479074e-01 -3.71805541e-02 -6.68370277e-02]\n",
      "b =  [ 0.11771239  0.07446921  0.4286759   0.16201591  0.4192319  -0.20432132\n",
      " -0.07214875 -0.13055389 -0.33874443 -0.2086187  -0.39286214  0.11427573\n",
      "  0.42514944 -0.02504103 -0.25834054  0.31159416 -0.02778467  0.21007025\n",
      "  0.11746836 -0.3005185  -0.14851207 -0.34213322  0.03892953  0.21747239\n",
      "  0.12901337  0.14157896  0.25838727 -0.20128712  0.3894534   0.16819951\n",
      " -0.09720761 -0.2807455 ]\n",
      "beta =  [-0.00637998 -0.01419008  0.01947843 -0.06865593  0.00966713 -0.06566154\n",
      " -0.07772819 -0.00563156 -0.10351733  0.10139829 -0.01147337 -0.02938202\n",
      "  0.00465002 -0.03835165 -0.03952748 -0.02677546  0.03315326 -0.00509803\n",
      " -0.08142949  0.04019775 -0.03211027  0.02682548 -0.07264223 -0.08483447\n",
      " -0.11049785 -0.04418252 -0.07983368 -0.05007667 -0.05865483 -0.04478623\n",
      " -0.000212   -0.06044149]\n",
      "b =  [ 0.2083714   0.05714395  0.01410811 -0.2662453   0.33490825 -0.21305797\n",
      " -0.20411345  0.1181732  -0.25112653  0.35564163  0.08507878  0.1608207\n",
      " -0.05380885 -0.49808085 -0.6697825  -0.03645934  0.02942935 -0.17104565\n",
      " -0.36945978 -0.19467479  0.1324467   0.12036875  0.08274397 -0.11779185\n",
      " -0.01502656  0.07352737  0.16927695  0.21181373  0.06052885  0.04421884\n",
      "  0.2585627  -0.2205011 ]\n",
      "beta =  [-0.0966961   0.03404863 -0.02397632 -0.06928444 -0.12479209 -0.10406306\n",
      " -0.00572355 -0.10102262 -0.08821796 -0.06551103  0.01684873 -0.17106317\n",
      " -0.10689706 -0.05968371 -0.0575502  -0.05985417 -0.10268185  0.1041059\n",
      " -0.03609858  0.03708604 -0.09597845  0.00979287 -0.0617771   0.03260747\n",
      " -0.09452581 -0.1027024  -0.07562219  0.02259388 -0.09151125 -0.03553491\n",
      " -0.08472779 -0.02186841]\n",
      "b =  [-0.20121163 -0.22688456  0.43433896  0.43190938 -0.18164468 -0.14504483\n",
      " -0.06636584 -0.28486905  0.04390238  0.03193594  0.33134365  0.02806234\n",
      "  0.24932334  0.14277166  0.10224368 -0.3309955   0.4601479   0.03076545\n",
      " -0.18797225  0.423559    0.00283898  0.60344726  0.207332   -0.27525604\n",
      " -0.15325268  0.19497803  0.09949153 -0.11442132  0.20940974  0.40189132\n",
      "  0.0274241  -0.02094226]\n",
      "beta =  [-0.14600432 -0.05209142 -0.08250022 -0.05720817 -0.03804238 -0.03403696\n",
      " -0.00374271 -0.0665855  -0.04949631 -0.03511025 -0.10639001 -0.04011791\n",
      " -0.02391216 -0.06046293 -0.08238268 -0.11868156 -0.09797265 -0.07633588\n",
      " -0.0449269  -0.06024474  0.01097855 -0.01072623 -0.12142269 -0.09600188\n",
      "  0.01168889 -0.09019191 -0.11340636 -0.11275894 -0.06442507 -0.00839195\n",
      " -0.08593488  0.05689114]\n",
      "b =  [ 0.3979882  -0.19977443  0.0547455   1.0702927   0.7585618   0.4933379\n",
      " -0.08701725 -0.09459168 -0.13270454 -0.2596338   0.29551148  0.27716774\n",
      "  0.04138539 -0.24102849 -0.14471038  0.9457388   0.0015462  -0.14697033\n",
      "  0.07827455  0.3489495   0.26308998 -0.5479002   0.5345649  -0.23047188\n",
      " -0.15005521 -0.13599522 -0.23762393 -0.08962379 -0.13473912  0.1473541\n",
      " -0.23686759 -1.0293249 ]\n",
      "beta =  [0.3478112  0.28463736 0.18317822 0.14632016 0.34444746 0.14823718\n",
      " 0.15785925 0.34975287 0.21491042 0.26266083 0.05884903 0.19038755\n",
      " 0.15715274 0.05769264 0.20036733 0.21930489 0.12282639 0.3168764\n",
      " 0.19561586 0.24332458]\n",
      "b =  [ 0.73479116  0.19408523  1.0042193   0.36079985 -0.03370595  1.2268829\n",
      " -0.13799651  0.23105285  0.9027432   0.16563955  0.97731775  0.40168655\n",
      " -0.40409258  0.10404824  2.0553112   1.1153876   0.28053197  1.5636156\n",
      " -0.3446935  -0.61927336]\n"
     ]
    }
   ],
   "source": [
    "import numpy as np\n",
    "import quant_dorefa\n",
    "\n",
    "def weight_quant(weight, bit):\n",
    "    quantize_fn = quant_dorefa.weight_quantize_fn(w_bit=bit)\n",
    "    w = quantize_fn(weight)\n",
    "#     print(w)\n",
    "    w = w.detach().numpy()\n",
    "    w = (w + 1) / 2 * (2**bit - 1) + 0.5\n",
    "    w = w.astype(np.int8)\n",
    "    return w\n",
    "\n",
    "def generate_params(model):\n",
    "    BIT = 2\n",
    "    \n",
    "    cov_cnt = 0\n",
    "    linear_cnt = 0\n",
    "    bn_cnt = 0\n",
    "\n",
    "    for name, sub_module in model.named_modules():\n",
    "        if type(sub_module).__base__ is torch.nn.Conv2d:\n",
    "            w = sub_module.weight\n",
    "#             print(w)\n",
    "            w = weight_quant(w, BIT)\n",
    "#             print(w)\n",
    "            w.tofile('prama/' + 'conv_' + str(cov_cnt) + '_w.bin')\n",
    "            if sub_module.bias != None:\n",
    "                b = sub_module.bias.detach().numpy()\n",
    "                b.tofile('prama/' + 'conv_' + str(cov_cnt) + '_b.bin')\n",
    "            cov_cnt = cov_cnt + 1    \n",
    "        elif type(sub_module).__base__ is torch.nn.Linear:\n",
    "            w = sub_module.weight\n",
    "#             print(w)\n",
    "            w = weight_quant(w, BIT)\n",
    "#             print(w)\n",
    "            w.tofile('prama/' + 'linear_' + str(linear_cnt) + '_w.bin')\n",
    "            if sub_module.bias != None:\n",
    "                b = sub_module.bias.detach().numpy()\n",
    "                b.tofile('prama/' + 'linear_' + str(linear_cnt) + '_b.bin')          \n",
    "            linear_cnt = linear_cnt + 1\n",
    "        elif type(sub_module) is torch.nn.BatchNorm2d or type(sub_module) is torch.nn.BatchNorm1d:\n",
    "            gamma = sub_module.weight.detach().numpy()\n",
    "            var = sub_module.running_var.numpy()\n",
    "            mean = sub_module.running_mean.numpy()\n",
    "            eps = sub_module.eps\n",
    "            beta = sub_module.bias.detach().numpy()\n",
    "               \n",
    "            w = gamma / (np.sqrt(var) + eps)\n",
    "            w.tofile('prama/' + 'bn_' + str(bn_cnt) + '_w.bin')\n",
    "\n",
    "            \n",
    "            b = beta - (mean / (np.sqrt(var) + eps) * gamma)\n",
    "#             print(eps)\n",
    "            print('beta = ', beta)\n",
    "            print('b = ', b)\n",
    "            b.tofile('prama/' + 'bn_' + str(bn_cnt) + '_b.bin') \n",
    "            bn_cnt = bn_cnt + 1\n",
    "\n",
    "generate_params(model)"
   ]
  },
  {
   "cell_type": "code",
   "execution_count": 8,
   "metadata": {},
   "outputs": [
    {
     "ename": "TypeError",
     "evalue": "'a' is an invalid keyword argument for this function",
     "output_type": "error",
     "traceback": [
      "\u001b[1;31m---------------------------------------------------------------------------\u001b[0m",
      "\u001b[1;31mTypeError\u001b[0m                                 Traceback (most recent call last)",
      "\u001b[1;32m<ipython-input-8-96ddfdb07a05>\u001b[0m in \u001b[0;36m<module>\u001b[1;34m()\u001b[0m\n\u001b[0;32m      1\u001b[0m \u001b[0ma\u001b[0m \u001b[1;33m=\u001b[0m \u001b[0mnp\u001b[0m\u001b[1;33m.\u001b[0m\u001b[0marray\u001b[0m\u001b[1;33m(\u001b[0m\u001b[1;33m[\u001b[0m\u001b[1;36m1.3\u001b[0m\u001b[1;33m,\u001b[0m \u001b[1;36m2.4\u001b[0m\u001b[1;33m,\u001b[0m \u001b[1;36m3.5\u001b[0m\u001b[1;33m,\u001b[0m \u001b[1;36m4.9\u001b[0m\u001b[1;33m]\u001b[0m\u001b[1;33m)\u001b[0m\u001b[1;33m\u001b[0m\u001b[0m\n\u001b[1;32m----> 2\u001b[1;33m \u001b[0mprint\u001b[0m\u001b[1;33m(\u001b[0m\u001b[0ma\u001b[0m \u001b[1;33m=\u001b[0m \u001b[1;36m1\u001b[0m\u001b[1;33m)\u001b[0m\u001b[1;33m\u001b[0m\u001b[0m\n\u001b[0m\u001b[0;32m      3\u001b[0m \u001b[0mprint\u001b[0m\u001b[1;33m(\u001b[0m\u001b[0ma\u001b[0m\u001b[1;33m.\u001b[0m\u001b[0mastype\u001b[0m\u001b[1;33m(\u001b[0m\u001b[0mnp\u001b[0m\u001b[1;33m.\u001b[0m\u001b[0mint8\u001b[0m\u001b[1;33m)\u001b[0m\u001b[1;33m)\u001b[0m\u001b[1;33m\u001b[0m\u001b[0m\n",
      "\u001b[1;31mTypeError\u001b[0m: 'a' is an invalid keyword argument for this function"
     ]
    }
   ],
   "source": [
    "a = np.array([1.3, 2.4, 3.5, 4.9])\n",
    "print(a = 1)\n",
    "print(a.astype(np.int8))"
   ]
  }
 ],
 "metadata": {
  "kernelspec": {
   "display_name": "Python 3",
   "language": "python",
   "name": "python3"
  },
  "language_info": {
   "codemirror_mode": {
    "name": "ipython",
    "version": 3
   },
   "file_extension": ".py",
   "mimetype": "text/x-python",
   "name": "python",
   "nbconvert_exporter": "python",
   "pygments_lexer": "ipython3",
   "version": "3.6.5"
  }
 },
 "nbformat": 4,
 "nbformat_minor": 2
}