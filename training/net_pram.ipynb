{
 "cells": [
  {
   "cell_type": "code",
   "execution_count": 1,
   "metadata": {},
   "outputs": [],
   "source": [
    "import torch\n",
    "import model"
   ]
  },
  {
   "cell_type": "code",
   "execution_count": 2,
   "metadata": {},
   "outputs": [
    {
     "data": {
      "text/plain": [
       "IncompatibleKeys(missing_keys=[], unexpected_keys=[])"
      ]
     },
     "execution_count": 2,
     "metadata": {},
     "output_type": "execute_result"
    }
   ],
   "source": [
    "model = model.ConvNet()\n",
    "model.load_state_dict(torch.load(\"model.pkl\", map_location='cpu'))"
   ]
  },
  {
   "cell_type": "code",
   "execution_count": 3,
   "metadata": {},
   "outputs": [
    {
     "name": "stdout",
     "output_type": "stream",
     "text": [
      "features.0.weight : torch.Size([16, 1, 3, 3])\n",
      "features.0.bias : torch.Size([16])\n",
      "features.2.weight : torch.Size([32, 16, 3, 3])\n",
      "features.2.bias : torch.Size([32])\n",
      "features.5.weight : torch.Size([32, 32, 3, 3])\n",
      "features.5.bias : torch.Size([32])\n",
      "classifier.0.weight : torch.Size([128, 6272])\n",
      "classifier.0.bias : torch.Size([128])\n",
      "classifier.2.weight : torch.Size([10, 128])\n",
      "classifier.2.bias : torch.Size([10])\n"
     ]
    }
   ],
   "source": [
    "for name,parameters in model.named_parameters():\n",
    "    print(name,':',parameters.size())"
   ]
  },
  {
   "cell_type": "code",
   "execution_count": 4,
   "metadata": {},
   "outputs": [
    {
     "name": "stdout",
     "output_type": "stream",
     "text": [
      "features.0\n",
      "3\n",
      "<class 'torch.nn.parameter.Parameter'>\n",
      "features.2\n",
      "3\n",
      "<class 'torch.nn.parameter.Parameter'>\n",
      "features.5\n",
      "3\n",
      "<class 'torch.nn.parameter.Parameter'>\n"
     ]
    }
   ],
   "source": [
    "for name, sub_module in model.named_modules():\n",
    "#     print(name, ':', sub_module)\n",
    "    if type(sub_module) is torch.nn.Conv2d:\n",
    "        print(name)\n",
    "#         print(sub_module.in_channels)\n",
    "#         print(sub_module.padding)\n",
    "#         print(sub_module.stride)\n",
    "        print(sub_module.kernel_size[0])\n",
    "        print(type(sub_module.bias))"
   ]
  },
  {
   "cell_type": "code",
   "execution_count": 5,
   "metadata": {},
   "outputs": [],
   "source": [
    "def write_define(define_name, define_value, config_file):\n",
    "    config_file.write(\"#define \"+str(define_name)+\" \"+str(define_value)+\"\\n\")\n",
    "    \n",
    "def generateConfig(model, in_row, in_col, path_to_config):\n",
    "    config_file = open(path_to_config, \"w\")\n",
    "    cov_cnt = 0\n",
    "    pool_cnt = 0\n",
    "    linear_cnt = 0\n",
    "    in_ch = 0\n",
    "    for name, sub_module in model.named_modules():\n",
    "        if type(sub_module) is torch.nn.Conv2d:\n",
    "            write_define(\"COV_\" + str(cov_cnt) + \"_IN_CH\", sub_module.in_channels, config_file)\n",
    "            write_define(\"COV_\" + str(cov_cnt) + \"_IN_ROW\", in_row, config_file)\n",
    "            write_define(\"COV_\" + str(cov_cnt) + \"_IN_COL\", in_col, config_file)\n",
    "            \n",
    "            in_row = (in_row + 2 * sub_module.padding[0] - sub_module.kernel_size[0]) // sub_module.stride[0] + 1\n",
    "            in_col = (in_col + 2 * sub_module.padding[0] - sub_module.kernel_size[0]) // sub_module.stride[0] + 1\n",
    "            in_ch = sub_module.out_channels\n",
    "            write_define(\"COV_\" + str(cov_cnt) + \"_OUT_CH\", sub_module.out_channels, config_file)\n",
    "            write_define(\"COV_\" + str(cov_cnt) + \"_OUT_ROW\", in_row, config_file)\n",
    "            write_define(\"COV_\" + str(cov_cnt) + \"_OUT_COL\", in_col, config_file)\n",
    "            \n",
    "           \n",
    "            write_define(\"COV_\" + str(cov_cnt) + \"_K\", sub_module.kernel_size[0], config_file)\n",
    "            write_define(\"COV_\" + str(cov_cnt) + \"_S\", sub_module.stride[0], config_file)\n",
    "            write_define(\"COV_\" + str(cov_cnt) + \"_P\", sub_module.padding[0], config_file)\n",
    "            if type(sub_module.bias) != None:\n",
    "                write_define(\"COV_\" + str(cov_cnt) + \"_B\", 1, config_file)\n",
    "            else:\n",
    "                write_define(\"COV_\" + str(cov_cnt) + \"_B\", 0, config_file)\n",
    "            cov_cnt = cov_cnt + 1\n",
    "            config_file.write(\"\\n\")\n",
    "        elif type(sub_module) is torch.nn.MaxPool2d:\n",
    "            write_define(\"POOL_\" + str(pool_cnt) + \"_IN_CH\", in_ch, config_file)\n",
    "            write_define(\"POOL_\" + str(pool_cnt) + \"_IN_ROW\", in_row, config_file)\n",
    "            write_define(\"POOL_\" + str(pool_cnt) + \"_IN_COL\", in_col, config_file)\n",
    "            write_define(\"POOL_\" + str(pool_cnt) + \"_IN_PO\", sub_module.kernel_size, config_file)\n",
    "            in_row = in_row // sub_module.kernel_size\n",
    "            in_col = in_col // sub_module.kernel_size\n",
    "            pool_cnt = pool_cnt + 1\n",
    "            config_file.write(\"\\n\")\n",
    "        elif type(sub_module) is torch.nn.Linear:\n",
    "            write_define(\"LINEAR_\" + str(linear_cnt) + \"_IN_N\", sub_module.in_features, config_file)\n",
    "            write_define(\"LINEAR_\" + str(linear_cnt) + \"_OUT_N\", sub_module.out_features, config_file)\n",
    "            linear_cnt = linear_cnt + 1\n",
    "            config_file.write(\"\\n\")\n",
    "#         elif type(sub_module) is torch.nn.ReLU:\n",
    "#             write_define(\"LINEAR_\" + str(linear_cnt) + \"_IN_N\", sub_module.in_features, config_file)\n",
    "    config_file.close()"
   ]
  },
  {
   "cell_type": "code",
   "execution_count": 6,
   "metadata": {},
   "outputs": [],
   "source": [
    "generateConfig(model, 28, 28, 'config.h')"
   ]
  },
  {
   "cell_type": "code",
   "execution_count": 7,
   "metadata": {},
   "outputs": [
    {
     "name": "stdout",
     "output_type": "stream",
     "text": [
      "torch.Size([16, 1, 3, 3])\n",
      "torch.Size([16])\n",
      "torch.Size([32, 16, 3, 3])\n",
      "torch.Size([32])\n",
      "torch.Size([32, 32, 3, 3])\n",
      "torch.Size([32])\n"
     ]
    }
   ],
   "source": [
    "for name, sub_module in model.named_modules():\n",
    "    if type(sub_module) is torch.nn.Conv2d:\n",
    "        print(sub_module.weight.size())\n",
    "        print(sub_module.bias.size())"
   ]
  },
  {
   "cell_type": "code",
   "execution_count": 12,
   "metadata": {},
   "outputs": [],
   "source": [
    "# import numpy np\n",
    "\n",
    "# import numpy as np  #借助numpy模块的set_printoptions()函数，将打印上限设置为无限即可\n",
    "\n",
    "def generate_params(model, path_to_config):\n",
    "\n",
    "    config_file = open(path_to_config, \"w\")\n",
    "    cov_cnt = 0\n",
    "    linear_cnt = 0\n",
    "\n",
    "    for name, sub_module in model.named_modules():\n",
    "        if type(sub_module) is torch.nn.Conv2d:\n",
    "            w = sub_module.weight.detach()\n",
    "#             print(sub_module.weight.detach().size())\n",
    "            str_h = 'float conv_' + str(cov_cnt) + '_w' + '[' + str(w.size()[0]) + ']' + '[' + str(w.size()[1]) + ']' \\\n",
    "            + '[' + str(w.size()[2]) + ']' + '[' + str(w.size()[3]) + '];\\n' \n",
    "        \n",
    "            \n",
    "            config_file.write(str_h)\n",
    "            \n",
    "            \n",
    "            b = sub_module.bias.detach()\n",
    "            str_h = 'float conv_' + str(cov_cnt) + '_b' + '[' + str(b.size()[0]) + '];' + '\\n' \n",
    "    \n",
    "            cov_cnt = cov_cnt + 1    \n",
    "            config_file.write(str_h)\n",
    "        elif type(sub_module) is torch.nn.Linear:\n",
    "            w = sub_module.weight.detach()\n",
    "            str_h = 'float linear_' + str(linear_cnt) + '_w' + '[' + str(w.size()[0]) + ']'  \\\n",
    "            + '[' + str(w.size()[1]) + '];' + '\\n' \n",
    "            \n",
    "            config_file.write(str_h)\n",
    "            \n",
    "            w = sub_module.bias.detach()\n",
    "            str_h = 'float linear_' + str(linear_cnt) + '_b' + '[' + str(w.size()[0]) + '];' + '\\n' \n",
    "            \n",
    "            config_file.write(str_h)\n",
    "            linear_cnt = linear_cnt + 1\n",
    "    \n",
    "    config_file.close()\n",
    "generate_params(model, 'params.h')"
   ]
  },
  {
   "cell_type": "code",
   "execution_count": 9,
   "metadata": {},
   "outputs": [],
   "source": [
    "import numpy as np\n",
    "\n",
    "def generate_params(model, path_to_config):\n",
    "    \n",
    "    cov_cnt = 0\n",
    "    linear_cnt = 0\n",
    "\n",
    "    for name, sub_module in model.named_modules():\n",
    "        if type(sub_module) is torch.nn.Conv2d:\n",
    "            w = sub_module.weight.detach().numpy()\n",
    "            w.tofile('prama/' + 'conv_' + str(cov_cnt) + '_w.bin')\n",
    "            b = sub_module.bias.detach().numpy()\n",
    "            b.tofile('prama/' + 'conv_' + str(cov_cnt) + '_b.bin')\n",
    "            cov_cnt = cov_cnt + 1    \n",
    "        elif type(sub_module) is torch.nn.Linear:\n",
    "            w = sub_module.weight.detach().numpy()\n",
    "            w.tofile('prama/' + 'linear_' + str(linear_cnt) + '_w.bin')\n",
    "            b = sub_module.bias.detach().numpy()\n",
    "            b.tofile('prama/' + 'linear_' + str(linear_cnt) + '_b.bin')          \n",
    "            linear_cnt = linear_cnt + 1\n",
    "\n",
    "generate_params(model, 'params.h')"
   ]
  },
  {
   "cell_type": "code",
   "execution_count": 22,
   "metadata": {},
   "outputs": [
    {
     "name": "stdout",
     "output_type": "stream",
     "text": [
      "[[-0.00539026  0.        ]\n",
      " [ 0.          0.        ]]\n",
      "float32\n",
      "[-0.00539026  0.          0.          0.        ]\n"
     ]
    }
   ],
   "source": [
    "np_test = np.array([[-0.00539026, 0.0], [0.0, 0.0]], dtype=np.float32)\n",
    "print(np_test)\n",
    "np_test.tofile('bin/np_test.bin')\n",
    "print(np_test.dtype)\n",
    "a = np.fromfile('bin/np_test.bin', dtype=np.float32)\n",
    "print(a)"
   ]
  },
  {
   "cell_type": "code",
   "execution_count": 24,
   "metadata": {},
   "outputs": [
    {
     "name": "stdout",
     "output_type": "stream",
     "text": [
      "[-0.0071761  -0.26500645 -0.13695267  0.33718866 -0.03437755  0.0664001\n",
      "  0.30932966 -0.10923674 -0.1830189  -0.18321484 -0.0201841  -0.06724987\n",
      "  0.25174853  0.18315771 -0.01448927  0.02068483]\n",
      "[-0.07783938  0.05491597  0.06421365  0.08444484  0.05854337 -0.08153045\n",
      "  0.05988433 -0.04162843 -0.02867602  0.06015589  0.10296108 -0.05653273\n",
      "  0.11243331  0.07066417  0.0917825  -0.04943069  0.00214054 -0.03915513\n",
      "  0.03478377  0.05991796 -0.0030085   0.07856456 -0.0235376  -0.01437902\n",
      "  0.07562374  0.05689866 -0.0407959  -0.01940347  0.01574142  0.03077894\n",
      " -0.06264897  0.05679629]\n",
      "[-0.00963615 -0.00520952  0.0519227   0.03503868  0.02174477  0.01664181\n",
      "  0.02904369  0.06629303  0.02722135  0.00285146  0.02328476 -0.04280936\n",
      "  0.01151723  0.03489932  0.04343028 -0.07362875 -0.04998298  0.05261745\n",
      " -0.07570004 -0.05914679 -0.00493663 -0.04692518 -0.05160992 -0.01051963\n",
      "  0.00126685  0.05247795 -0.04425753  0.03408209 -0.02495088 -0.06547379\n",
      "  0.00545672 -0.077207  ]\n"
     ]
    }
   ],
   "source": [
    "for name, sub_module in model.named_modules():\n",
    "    if type(sub_module) is torch.nn.Conv2d:\n",
    "        b = sub_module.bias.detach().numpy()\n",
    "        print(b)\n",
    "  "
   ]
  }
 ],
 "metadata": {
  "kernelspec": {
   "display_name": "Python 3",
   "language": "python",
   "name": "python3"
  },
  "language_info": {
   "codemirror_mode": {
    "name": "ipython",
    "version": 3
   },
   "file_extension": ".py",
   "mimetype": "text/x-python",
   "name": "python",
   "nbconvert_exporter": "python",
   "pygments_lexer": "ipython3",
   "version": "3.6.5"
  }
 },
 "nbformat": 4,
 "nbformat_minor": 2
}
