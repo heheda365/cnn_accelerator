{
 "cells": [
  {
   "cell_type": "code",
   "execution_count": 2,
   "metadata": {},
   "outputs": [],
   "source": [
    "import torch\n",
    "import model"
   ]
  },
  {
   "cell_type": "code",
   "execution_count": 3,
   "metadata": {},
   "outputs": [
    {
     "data": {
      "text/plain": [
       "IncompatibleKeys(missing_keys=[], unexpected_keys=[])"
      ]
     },
     "execution_count": 3,
     "metadata": {},
     "output_type": "execute_result"
    }
   ],
   "source": [
    "model = model.ConvNet()\n",
    "model.load_state_dict(torch.load(\"model.pkl\", map_location='cpu'))"
   ]
  },
  {
   "cell_type": "code",
   "execution_count": 4,
   "metadata": {},
   "outputs": [
    {
     "name": "stdout",
     "output_type": "stream",
     "text": [
      "features.0.weight : torch.Size([16, 1, 3, 3])\n",
      "features.0.bias : torch.Size([16])\n",
      "features.2.weight : torch.Size([32, 16, 3, 3])\n",
      "features.2.bias : torch.Size([32])\n",
      "features.5.weight : torch.Size([32, 32, 3, 3])\n",
      "features.5.bias : torch.Size([32])\n",
      "classifier.0.weight : torch.Size([128, 6272])\n",
      "classifier.0.bias : torch.Size([128])\n",
      "classifier.2.weight : torch.Size([10, 128])\n",
      "classifier.2.bias : torch.Size([10])\n"
     ]
    }
   ],
   "source": [
    "for name,parameters in model.named_parameters():\n",
    "    print(name,':',parameters.size())"
   ]
  },
  {
   "cell_type": "code",
   "execution_count": 29,
   "metadata": {},
   "outputs": [
    {
     "name": "stdout",
     "output_type": "stream",
     "text": [
      "features.0\n",
      "3\n",
      "features.2\n",
      "3\n",
      "features.5\n",
      "3\n"
     ]
    }
   ],
   "source": [
    "for name, sub_module in model.named_modules():\n",
    "#     print(name, ':', sub_module)\n",
    "    if type(sub_module) is torch.nn.Conv2d:\n",
    "        print(name)\n",
    "#         print(sub_module.in_channels)\n",
    "#         print(sub_module.padding)\n",
    "#         print(sub_module.stride)\n",
    "        print(sub_module.kernel_size[0])"
   ]
  },
  {
   "cell_type": "code",
   "execution_count": 48,
   "metadata": {},
   "outputs": [],
   "source": [
    "def write_define(define_name, define_value, config_file):\n",
    "    config_file.write(\"#define \"+str(define_name)+\" \"+str(define_value)+\"\\n\")\n",
    "    \n",
    "def generateConfig(model, in_row, in_col, path_to_config):\n",
    "    config_file = open(path_to_config, \"w\")\n",
    "    cov_cnt = 0\n",
    "    pool_cnt = 0\n",
    "    linear_cnt = 0\n",
    "    in_ch = 0\n",
    "    for name, sub_module in model.named_modules():\n",
    "        if type(sub_module) is torch.nn.Conv2d:\n",
    "            write_define(\"COV_\" + str(cov_cnt) + \"_IN_CH\", sub_module.in_channels, config_file)\n",
    "            write_define(\"COV_\" + str(cov_cnt) + \"_IN_ROW\", in_row, config_file)\n",
    "            write_define(\"COV_\" + str(cov_cnt) + \"_IN_COL\", in_col, config_file)\n",
    "            \n",
    "            in_row = (in_row + 2 * sub_module.padding[0] - sub_module.kernel_size[0]) // sub_module.stride[0] + 1\n",
    "            in_col = (in_col + 2 * sub_module.padding[0] - sub_module.kernel_size[0]) // sub_module.stride[0] + 1\n",
    "            in_ch = sub_module.out_channels\n",
    "            write_define(\"COV_\" + str(cov_cnt) + \"_OUT_CH\", sub_module.out_channels, config_file)\n",
    "            write_define(\"COV_\" + str(cov_cnt) + \"_OUT_ROW\", in_row, config_file)\n",
    "            write_define(\"COV_\" + str(cov_cnt) + \"_OUT_COL\", in_col, config_file)\n",
    "            \n",
    "           \n",
    "            write_define(\"COV_\" + str(cov_cnt) + \"_K\", sub_module.kernel_size[0], config_file)\n",
    "            write_define(\"COV_\" + str(cov_cnt) + \"_S\", sub_module.stride[0], config_file)\n",
    "            write_define(\"COV_\" + str(cov_cnt) + \"_P\", sub_module.padding[0], config_file)\n",
    "            if sub_module.bias[0] == True:\n",
    "                write_define(\"COV_\" + str(cov_cnt) + \"_B\", 1, config_file)\n",
    "            else:\n",
    "                write_define(\"COV_\" + str(cov_cnt) + \"_B\", 0, config_file)\n",
    "            cov_cnt = cov_cnt + 1\n",
    "            config_file.write(\"\\n\")\n",
    "        elif type(sub_module) is torch.nn.MaxPool2d:\n",
    "            write_define(\"POOL_\" + str(pool_cnt) + \"_IN_CH\", in_ch, config_file)\n",
    "            write_define(\"POOL_\" + str(pool_cnt) + \"_IN_ROW\", in_row, config_file)\n",
    "            write_define(\"POOL_\" + str(pool_cnt) + \"_IN_COL\", in_col, config_file)\n",
    "            write_define(\"POOL_\" + str(pool_cnt) + \"_IN_PO\", sub_module.kernel_size, config_file)\n",
    "            in_row = in_row // sub_module.kernel_size\n",
    "            in_col = in_col // sub_module.kernel_size\n",
    "            pool_cnt = pool_cnt + 1\n",
    "            config_file.write(\"\\n\")\n",
    "        elif type(sub_module) is torch.nn.Linear:\n",
    "            write_define(\"LINEAR_\" + str(linear_cnt) + \"_IN_N\", sub_module.in_features, config_file)\n",
    "            write_define(\"LINEAR_\" + str(linear_cnt) + \"_OUT_N\", sub_module.out_features, config_file)\n",
    "            linear_cnt = linear_cnt + 1\n",
    "            config_file.write(\"\\n\")\n",
    "#         elif type(sub_module) is torch.nn.ReLU:\n",
    "#             write_define(\"LINEAR_\" + str(linear_cnt) + \"_IN_N\", sub_module.in_features, config_file)\n",
    "    config_file.close()"
   ]
  },
  {
   "cell_type": "code",
   "execution_count": 50,
   "metadata": {},
   "outputs": [],
   "source": [
    "generateConfig(model, 28, 28, 'config.h')"
   ]
  },
  {
   "cell_type": "code",
   "execution_count": 57,
   "metadata": {},
   "outputs": [
    {
     "name": "stdout",
     "output_type": "stream",
     "text": [
      "torch.Size([16, 1, 3, 3])\n",
      "torch.Size([16])\n",
      "torch.Size([32, 16, 3, 3])\n",
      "torch.Size([32])\n",
      "torch.Size([32, 32, 3, 3])\n",
      "torch.Size([32])\n"
     ]
    }
   ],
   "source": [
    "for name, sub_module in model.named_modules():\n",
    "    if type(sub_module) is torch.nn.Conv2d:\n",
    "        print(sub_module.weight.size())\n",
    "        print(sub_module.bias.size())"
   ]
  },
  {
   "cell_type": "code",
   "execution_count": 91,
   "metadata": {},
   "outputs": [],
   "source": [
    "# import numpy np\n",
    "\n",
    "# import numpy as np  #借助numpy模块的set_printoptions()函数，将打印上限设置为无限即可\n",
    "\n",
    "def generate_params(model, path_to_config):\n",
    "#     np.set_printoptions(threshold=np.inf)\n",
    "    torch.set_printoptions(threshold=np.inf)\n",
    "    config_file = open(path_to_config, \"w\")\n",
    "    cov_cnt = 0\n",
    "    linear_cnt = 0\n",
    "\n",
    "    for name, sub_module in model.named_modules():\n",
    "        if type(sub_module) is torch.nn.Conv2d:\n",
    "            w = sub_module.weight.detach()\n",
    "#             print(sub_module.weight.detach().size())\n",
    "            str_h = 'const float conv_' + str(cov_cnt) + '_w' + '[' + str(w.size()[0]) + ']' + '[' + str(w.size()[1]) + ']' \\\n",
    "            + '[' + str(w.size()[2]) + ']' + '[' + str(w.size()[3]) + '] = \\n' \n",
    "            str_b = str(w)\n",
    "#             print(str_b)\n",
    "            str_b = str_b.replace('tensor(', '')\n",
    "            str_b = str_b.replace(')', '')\n",
    "            str_b = str_b.replace('[', '{')\n",
    "            str_b = str_b.replace(']', '}')\n",
    "            str1 = str_h + str_b + ';\\n'\n",
    "            \n",
    "            config_file.write(str1)\n",
    "            \n",
    "            \n",
    "            b = sub_module.bias.detach()\n",
    "            str_h = 'const float conv_' + str(cov_cnt) + '_b' + '[' + str(b.size()[0]) + ']' + ' = \\n' \n",
    "            str_b = str(b)\n",
    "            str_b = str_b.replace('tensor(', '')\n",
    "            str_b = str_b.replace(')', '')\n",
    "            str_b = str_b.replace('[', '{')\n",
    "            str_b = str_b.replace(']', '}')\n",
    "            str1 = str_h + str_b + ';\\n'\n",
    "            cov_cnt = cov_cnt + 1    \n",
    "            config_file.write(str1)\n",
    "        elif type(sub_module) is torch.nn.Linear:\n",
    "            w = sub_module.weight.detach()\n",
    "            str_h = 'const float linear_' + str(linear_cnt) + '_w' + '[' + str(w.size()[0]) + ']'  \\\n",
    "            + '[' + str(w.size()[1]) + ']' + ' = \\n' \n",
    "            str_b = str(w)\n",
    "            str_b = str_b.replace('tensor(', '')\n",
    "            str_b = str_b.replace(')', '')\n",
    "            str_b = str_b.replace('[', '{')\n",
    "            str_b = str_b.replace(']', '}')\n",
    "            str1 = str_h + str_b + ';\\n'\n",
    "            cov_cnt = cov_cnt + 1    \n",
    "            config_file.write(str1)\n",
    "            \n",
    "            w = sub_module.bias.detach()\n",
    "            str_h = 'const float linear_' + str(linear_cnt) + '_b' + '[' + str(w.size()[0]) + ']' + ' = \\n' \n",
    "            str_b = str(w)\n",
    "            str_b = str_b.replace('tensor(', '')\n",
    "            str_b = str_b.replace(')', '')\n",
    "            str_b = str_b.replace('[', '{')\n",
    "            str_b = str_b.replace(']', '}')\n",
    "            str1 = str_h + str_b + ';\\n'\n",
    "            cov_cnt = cov_cnt + 1    \n",
    "            config_file.write(str1)\n",
    "            linear_cnt = linear_cnt + 1\n",
    "    \n",
    "    config_file.close()\n",
    "generate_params(model, 'params.h')"
   ]
  }
 ],
 "metadata": {
  "kernelspec": {
   "display_name": "Python 3",
   "language": "python",
   "name": "python3"
  },
  "language_info": {
   "codemirror_mode": {
    "name": "ipython",
    "version": 3
   },
   "file_extension": ".py",
   "mimetype": "text/x-python",
   "name": "python",
   "nbconvert_exporter": "python",
   "pygments_lexer": "ipython3",
   "version": "3.6.5"
  }
 },
 "nbformat": 4,
 "nbformat_minor": 2
}
